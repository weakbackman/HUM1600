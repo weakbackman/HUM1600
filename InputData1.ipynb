{
  "nbformat": 4,
  "nbformat_minor": 0,
  "metadata": {
    "colab": {
      "provenance": [],
      "authorship_tag": "ABX9TyNMzh9dA5sCTDD+CsnIflC2",
      "include_colab_link": true
    },
    "kernelspec": {
      "name": "python3",
      "display_name": "Python 3"
    },
    "language_info": {
      "name": "python"
    }
  },
  "cells": [
    {
      "cell_type": "markdown",
      "metadata": {
        "id": "view-in-github",
        "colab_type": "text"
      },
      "source": [
        "<a href=\"https://colab.research.google.com/github/weakbackman/HUM1600/blob/main/InputData1.ipynb\" target=\"_parent\"><img src=\"https://colab.research.google.com/assets/colab-badge.svg\" alt=\"Open In Colab\"/></a>"
      ]
    },
    {
      "cell_type": "code",
      "execution_count": null,
      "metadata": {
        "id": "VDOG1lbjwoR1"
      },
      "outputs": [],
      "source": [
        "#Ethan Berry\n",
        "#01/21/24\n",
        "#quanitative is measurable like length, qualitative is feeling based like taste\n",
        "#casting temporarily sets a varible to a different type, like if you were dividing two ints but setting it equal to a double and want that presicion\n",
        "#precision is the number of sig figs and scale is how many numbers are after the decimal point, 1234.890 has a scale of 4 and a precision of 7\n",
        "\n",
        "#Problem 1\n",
        "print(\"Ryan Gosling\\nlitterallyme@gmail.com\\n\")"
      ]
    },
    {
      "cell_type": "code",
      "source": [
        "#Problem 2\n",
        "x=100\n",
        "y=15\n",
        "print(x*y)\n",
        "print(x/y)\n",
        "print(type(x))\n",
        "print(type(y))"
      ],
      "metadata": {
        "id": "oVxEfH93wvVT"
      },
      "execution_count": null,
      "outputs": []
    },
    {
      "cell_type": "code",
      "source": [
        "#Problem 3\n",
        "print(\"input x as an integer\")\n",
        "x=int(input())\n",
        "print(\"input y as an integer\")\n",
        "y=int(input())\n",
        "print(x*y)\n",
        "print(x/y)\n",
        "print(type(x))\n",
        "print(type(y))"
      ],
      "metadata": {
        "id": "-Zt96Tz-wvqN"
      },
      "execution_count": null,
      "outputs": []
    },
    {
      "cell_type": "markdown",
      "source": [
        "#Problem 4\n",
        "True\n",
        "False\n",
        "True"
      ],
      "metadata": {
        "id": "JjtZTkLjxFK3"
      }
    },
    {
      "cell_type": "code",
      "source": [
        "#Problem 5\n",
        "thing=\"University of Utah\"\n",
        "print(thing[14]+thing[8]+thing[4]+thing[6],end='!')"
      ],
      "metadata": {
        "id": "iL1aaAZQwyPK",
        "colab": {
          "base_uri": "https://localhost:8080/"
        },
        "outputId": "70bc26bb-bd52-4cd0-f874-5dea19f00591"
      },
      "execution_count": null,
      "outputs": [
        {
          "output_type": "stream",
          "name": "stdout",
          "text": [
            "Utes!"
          ]
        }
      ]
    },
    {
      "cell_type": "code",
      "source": [
        "#Problem 6\n",
        "shake=\"To be, or not to be, that is the question: Whether 'tis nobler in the mind to suffer The slings and arrows of outrageous fortune, Or to take arms against a sea of troubles And by opposing end them.\"\n",
        "speare=shake[172]+shake[2]+shake[8]+shake[4]+shake[3]+shake[4]+shake[59]+shake[51]+shake[27]+shake[2]+shake[12]+shake[22]+shake[1]+shake[8]+shake[10]+shake[196]\n",
        "print(speare)"
      ],
      "metadata": {
        "id": "BlTx9FMrwzKN"
      },
      "execution_count": null,
      "outputs": []
    }
  ]
}