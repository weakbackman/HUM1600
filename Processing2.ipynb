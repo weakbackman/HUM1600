{
  "nbformat": 4,
  "nbformat_minor": 0,
  "metadata": {
    "colab": {
      "provenance": [],
      "include_colab_link": true
    },
    "kernelspec": {
      "name": "python3",
      "display_name": "Python 3"
    },
    "language_info": {
      "name": "python"
    }
  },
  "cells": [
    {
      "cell_type": "markdown",
      "metadata": {
        "id": "view-in-github",
        "colab_type": "text"
      },
      "source": [
        "<a href=\"https://colab.research.google.com/github/weakbackman/HUM1600/blob/main/Processing2.ipynb\" target=\"_parent\"><img src=\"https://colab.research.google.com/assets/colab-badge.svg\" alt=\"Open In Colab\"/></a>"
      ]
    },
    {
      "cell_type": "code",
      "execution_count": null,
      "metadata": {
        "id": "nEjKgpiAOIhb"
      },
      "outputs": [],
      "source": [
        "\"\"\"\n",
        "Ethan Berry\n",
        "02/21/2024\n",
        "a built in fuction is inherent to the lauguage but a programmer defined fuction you have to build yourself\n",
        "a void fuction doesn't take in or return any variables but a value fuction takes in or returns a value\n",
        "\"\"\""
      ]
    },
    {
      "cell_type": "code",
      "source": [
        "#Problem 1\n",
        "numbers=[23,56,19,52,87,88,50,34,22,61,52,43,25,76,77,94]\n",
        "tot=sum(numbers)\n",
        "largest=max(numbers)\n",
        "smallest=min(numbers)\n",
        "size=len(numbers)\n",
        "print(\"There are \"+str(size)+\" numbers in the list\")\n",
        "print(\"The maximum value in the list is \"+str(largest))\n",
        "print(\"The minimum value in the list is \"+str(smallest))\n",
        "print(\"The total of all the numbers added together is \"+str(tot))"
      ],
      "metadata": {
        "colab": {
          "base_uri": "https://localhost:8080/"
        },
        "id": "uL1nhZMDOI03",
        "outputId": "e1da2797-bf5b-4c4e-baf6-31078e1139fc"
      },
      "execution_count": null,
      "outputs": [
        {
          "output_type": "stream",
          "name": "stdout",
          "text": [
            "There are 16 numbers in the list\n",
            "The maximum value in the list is 94\n",
            "The minimum value in the list is 19\n",
            "The total of all the numbers added together is 859\n"
          ]
        }
      ]
    },
    {
      "cell_type": "code",
      "source": [
        "#Problem 2\n",
        "def namePrint(firstName,lastName):\n",
        "  print(firstName,lastName)\n",
        "  print(lastName+\", \"+firstName)\n",
        "  print(firstName.upper(),lastName.upper())\n",
        "  for x in (firstName+lastName):\n",
        "    print(x,end=' ')\n",
        "#main\n",
        "first=input(\"Enter your first name: \")\n",
        "last=input(\"Enter your last name: \")\n",
        "namePrint(first,last)\n"
      ],
      "metadata": {
        "colab": {
          "base_uri": "https://localhost:8080/"
        },
        "id": "53ShwS-9OYk5",
        "outputId": "56371356-42d4-457d-da3b-5474f17abada"
      },
      "execution_count": null,
      "outputs": [
        {
          "output_type": "stream",
          "name": "stdout",
          "text": [
            "Enter your first name: Ethan\n",
            "Enter your last name: Berry\n",
            "Ethan Berry\n",
            "Berry, Ethan\n",
            "ETHAN BERRY\n",
            "E t h a n B e r r y "
          ]
        }
      ]
    },
    {
      "cell_type": "code",
      "source": [
        "#Problem 3\n",
        "import random\n",
        "def dSix():\n",
        "  return random.randrange(1,6)\n",
        "\n",
        "#main\n",
        "die=dSix()\n",
        "guess=0\n",
        "i=0\n",
        "correct=False\n",
        "print(die)\n",
        "while(i<3):\n",
        "  guess=input(\"Guess a number between 1 and 6 you get \"+str(3-i)+\" tries: \")\n",
        "  if guess==str(die):\n",
        "    print(\"Congrats you guessed the number!\")\n",
        "    i=3\n",
        "    correct=True\n",
        "  else:\n",
        "    print(\"Guess again\")\n",
        "  i+=1\n",
        "if not correct:\n",
        "  print(\"You didn't get it in three guesses\")"
      ],
      "metadata": {
        "colab": {
          "base_uri": "https://localhost:8080/"
        },
        "id": "4ttkXPccP-my",
        "outputId": "012a3a4f-0932-46b9-f289-a0b2b5af4722"
      },
      "execution_count": null,
      "outputs": [
        {
          "output_type": "stream",
          "name": "stdout",
          "text": [
            "5\n",
            "Guess a number between 1 and 6 you get 3 tries: 6\n",
            "Guess again\n",
            "Guess a number between 1 and 6 you get 2 tries: 3\n",
            "Guess again\n",
            "Guess a number between 1 and 6 you get 1 tries: 5\n",
            "Congrats you guessed the number!\n"
          ]
        }
      ]
    }
  ]
}